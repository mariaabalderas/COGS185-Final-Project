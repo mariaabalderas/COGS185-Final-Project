{
 "cells": [
  {
   "cell_type": "markdown",
   "id": "32c25f8c",
   "metadata": {},
   "source": [
    "## **COGS185 Final Project**\n",
    "\n",
    "### Spring 2025\n",
    "\n",
    "### Maria Balderas"
   ]
  },
  {
   "cell_type": "code",
   "execution_count": null,
   "id": "81b5b047",
   "metadata": {},
   "outputs": [],
   "source": [
    "import warnings; warnings.simplefilter('ignore')\n",
    "import numpy as np\n",
    "from sklearn import preprocessing\n",
    "le = preprocessing.LabelEncoder()\n",
    "oe = preprocessing.OneHotEncoder(sparse_output=False)\n",
    "import re\n",
    "import matplotlib.pyplot as plt\n",
    "from matplotlib.pyplot import imshow\n",
    "%matplotlib inline\n",
    "label_encoder = preprocessing.LabelEncoder()\n"
   ]
  },
  {
   "cell_type": "markdown",
   "id": "93fd8864",
   "metadata": {},
   "source": [
    "**Data**"
   ]
  },
  {
   "cell_type": "code",
   "execution_count": null,
   "id": "08ef904d",
   "metadata": {},
   "outputs": [],
   "source": [
    "# Windows Length\n",
    "L = 2\n",
    "# Number of examples\n",
    "N = 5000\n",
    "# Length of a feature\n",
    "d = 128 "
   ]
  },
  {
   "cell_type": "code",
   "execution_count": 16,
   "id": "f8f66532",
   "metadata": {},
   "outputs": [],
   "source": [
    "def l2i(a):\n",
    "        return int(ord(a)-ord('a'))\n",
    "def i2l(i):\n",
    "    if i >= 0:\n",
    "        return chr(i+ord('a'))\n",
    "    else:\n",
    "        return '_'\n",
    "def iors(s):\n",
    "    try:\n",
    "        return int(s)\n",
    "    except ValueError: # if it is a string, return a string\n",
    "        return s"
   ]
  },
  {
   "cell_type": "code",
   "execution_count": null,
   "id": "21bfabb8",
   "metadata": {},
   "outputs": [],
   "source": [
    "## ocr dataset\n",
    "\n",
    "# Read the entire dataset into lists or list of lists\n",
    "def read_OCR(filename, n_features):\n",
    "    F = open(filename)\n",
    "    dataset = {}\n",
    "    dataset['ids'] = []#np.zeros(n_examples, dtype=int)\n",
    "    dataset['labels'] = []#np.zeros(n_examples,dtype=int)\n",
    "    dataset['labelDic'] = {} # To profile the distribution of labels\n",
    "    dataset['next_ids'] = []#np.zeros(n_examples,dtype=int)\n",
    "    dataset['word_ids'] = []#np.zeros(n_examples,dtype=int)\n",
    "    dataset['positions'] = []#np.zeros(n_examples,dtype=int)\n",
    "    dataset['folds'] = []#np.zeros(n_examples,dtype=int)\n",
    "    dataset['features'] = []#np.zeros([n_examples,n_features])\n",
    "    \n",
    "    for str_line in F.readlines():\n",
    "        #line0 = map(iors, filter(None, re.split('\\t', str_line.strip())))\n",
    "        ## ATTENTION: If you are using Python3, use the following line instead\n",
    "        line0 = list(map(iors, filter(None, re.split('\\t', str_line.strip()))))\n",
    "\n",
    "\n",
    "        dataset['ids'].append(int(line0.pop(0)))\n",
    "        dataset['labels'].append(l2i(line0.pop(0))) # The label is converted into integer('a'=>0, 'z'=>25)\n",
    "        if dataset['labels'][-1] in dataset['labelDic']:\n",
    "            dataset['labelDic'][dataset['labels'][-1]] += 1\n",
    "        else:\n",
    "            dataset['labelDic'][dataset['labels'][-1]] = 1\n",
    "            \n",
    "        dataset['next_ids'].append(int(line0.pop(0)))\n",
    "        dataset['word_ids'].append(int(line0.pop(0)))\n",
    "        dataset['positions'].append(int(line0.pop(0)))\n",
    "        dataset['folds'].append(int(line0.pop(0)))\n",
    "        \n",
    "\n",
    "        if len(line0) != 128:  # Sanity check of the length\n",
    "            print (len(line0))\n",
    "        dataset['features'].append(line0)\n",
    "\n",
    "    return dataset"
   ]
  },
  {
   "cell_type": "code",
   "execution_count": 33,
   "id": "5eee6faa",
   "metadata": {},
   "outputs": [],
   "source": [
    "dataset1 = read_OCR('OCRdataset/letter.data', d)"
   ]
  },
  {
   "cell_type": "code",
   "execution_count": 19,
   "id": "303928c2",
   "metadata": {},
   "outputs": [
    {
     "name": "stdout",
     "output_type": "stream",
     "text": [
      "max of labels= 25  min of labels= 0 num of labels= 26\n",
      "labelDic.keys()= <map object at 0x172145ba0>\n",
      "Total number of lines= 52152\n",
      "The shape of features: (52152, 128)\n",
      "The first 10 ids: [1, 2, 3, 4, 5, 6, 7, 8, 9, 10]\n",
      "ids[0]= 1\n",
      "labels[0]= 14\n",
      "The 1st letter is  o\n",
      "next_ids[0]= 2\n"
     ]
    },
    {
     "data": {
      "image/png": "[encoded data removed]",
      "text/plain": [
       "<Figure size 2000x600 with 20 Axes>"
      ]
     },
     "metadata": {},
     "output_type": "display_data"
    }
   ],
   "source": [
    "# Understand the profile of OCR raw data\n",
    "print (\"max of labels=\", max(dataset1['labels']), \" min of labels=\", min(dataset1['labels']), 'num of labels=', len(dataset1['labelDic']))\n",
    "print (\"labelDic.keys()=\", map(i2l, dataset1['labelDic'].keys()))\n",
    "print (\"Total number of lines=\", len(dataset1['ids']))\n",
    "print (\"The shape of features:\", np.array(dataset1['features']).shape)\n",
    "\n",
    "print (\"The first 10 ids:\",dataset1['ids'][:10])\n",
    "print (\"ids[0]=\",dataset1['ids'][0])\n",
    "print (\"labels[0]=\", dataset1['labels'][0])\n",
    "print (\"The 1st letter is \", i2l(dataset1['labels'][0]))\n",
    "print (\"next_ids[0]=\",dataset1['next_ids'][0])\n",
    "# Show the matrix into an image\n",
    "def showFeatures(features, num):\n",
    "    plt.figure(figsize=(num, 6))\n",
    "    \n",
    "    for i in range(num):\n",
    "        npfeature = np.array(features[i])\n",
    "        plt.subplot(1,num,i+1)\n",
    "        imshow(npfeature.reshape(16,8), cmap='gray')\n",
    "        plt.title(i)\n",
    "\n",
    "showFeatures(dataset1['features'],20)\n",
    "\n",
    "# f1 = np.array(dataset1['features'])\n",
    "# f1 = np.hstack([np.ones((f1.shape[0],1)), f1])\n",
    "# print f1.shape\n",
    "# dataset1['features'] = f1.tolist()\n",
    "# d +=1"
   ]
  },
  {
   "cell_type": "code",
   "execution_count": 20,
   "id": "2db7e3a1",
   "metadata": {},
   "outputs": [],
   "source": [
    "## groups data by word\n",
    "\n",
    "from collections import defaultdict\n",
    "\n",
    "def group_by_word(dataset):\n",
    "    words = defaultdict(list)\n",
    "    for i in range(len(dataset['labels'])):\n",
    "        word_id = dataset['word_ids'][i]\n",
    "        pos = dataset['positions'][i]\n",
    "        feat = list(map(float, dataset['features'][i]))  # ensure float\n",
    "        label = dataset['labels'][i]\n",
    "        words[word_id].append((pos, feat, label))\n",
    "\n",
    "    # Sort characters within each word by position\n",
    "    X_seq, y_seq = [], []\n",
    "    for word in words.values():\n",
    "        word = sorted(word, key=lambda x: x[0])\n",
    "        feats = [x[1] for x in word]\n",
    "        labels = [x[2] for x in word]\n",
    "        X_seq.append(feats)\n",
    "        y_seq.append(labels)\n",
    "\n",
    "    return X_seq, y_seq\n"
   ]
  },
  {
   "cell_type": "code",
   "execution_count": 21,
   "id": "7db50394",
   "metadata": {},
   "outputs": [],
   "source": [
    "def extract_sliding_window_features(sequence, window_size=3):\n",
    "    pad = window_size // 2\n",
    "    padded_seq = [np.zeros_like(sequence[0])]*pad + list(sequence) + [np.zeros_like(sequence[0])]*pad\n",
    "    windowed_features = []\n",
    "    for i in range(pad, len(padded_seq) - pad):\n",
    "        window = padded_seq[i - pad: i + pad + 1]\n",
    "        flat_window = np.concatenate(window)  # flatten the window into a single feature vector\n",
    "        feature_dict = {f'f{j}': val for j, val in enumerate(flat_window)}\n",
    "        windowed_features.append(feature_dict)\n",
    "    return windowed_features\n"
   ]
  },
  {
   "cell_type": "code",
   "execution_count": 22,
   "id": "9b24ec56",
   "metadata": {},
   "outputs": [],
   "source": [
    "def decode_labels(y_seq):\n",
    "    return [[chr(ord('a') + label) for label in word] for word in y_seq]\n"
   ]
  },
  {
   "cell_type": "markdown",
   "id": "2561354d",
   "metadata": {},
   "source": [
    "**Structural SVM**"
   ]
  },
  {
   "cell_type": "code",
   "execution_count": 27,
   "id": "706bb114",
   "metadata": {},
   "outputs": [
    {
     "name": "stdout",
     "output_type": "stream",
     "text": [
      "Structured-like SVM (sliding window) accuracy: 0.799054071328135\n"
     ]
    }
   ],
   "source": [
    "import numpy as np\n",
    "from sklearn.svm import LinearSVC\n",
    "from sklearn.metrics import accuracy_score\n",
    "from sklearn.model_selection import train_test_split\n",
    "\n",
    "# Use your functions as provided\n",
    "\n",
    "# Group characters into words\n",
    "X_seq, y_seq = group_by_word(dataset1)\n",
    "\n",
    "# Flatten sequences using sliding window into a flat classification dataset\n",
    "def build_dataset_from_sequences(X_seq, y_seq, window_size=3):\n",
    "    X_flat, y_flat = [], []\n",
    "    for x_seq, y_labels in zip(X_seq, y_seq):\n",
    "        window_feats = extract_sliding_window_features(x_seq, window_size)\n",
    "        X_flat.extend([list(f.values()) for f in window_feats])  # convert dict to list\n",
    "        y_flat.extend(y_labels)\n",
    "    return np.array(X_flat), np.array(y_flat)\n",
    "\n",
    "# Build data\n",
    "X_flat, y_flat = build_dataset_from_sequences(X_seq, y_seq, window_size=5)\n",
    "\n",
    "# Train/test split (70/30 split, or use the 2500/2500 split based on total character count)\n",
    "X_train, X_test, y_train, y_test = train_test_split(X_flat, y_flat, train_size=0.7, random_state=42)\n",
    "\n",
    "# Train SVM\n",
    "clf = LinearSVC(max_iter=1000)\n",
    "clf.fit(X_train, y_train)\n",
    "\n",
    "# Evaluate\n",
    "y_pred = clf.predict(X_test)\n",
    "acc = accuracy_score(y_test, y_pred)\n",
    "print(\"Structured-like SVM (sliding window) accuracy:\", acc)\n"
   ]
  },
  {
   "cell_type": "code",
   "execution_count": 28,
   "id": "228224d1",
   "metadata": {},
   "outputs": [],
   "source": [
    "def compute_word_level_accuracy(y_true_seq, y_pred_seq):\n",
    "    correct_words = 0\n",
    "    total_words = len(y_true_seq)\n",
    "\n",
    "    for true_word, pred_word in zip(y_true_seq, y_pred_seq):\n",
    "        if true_word == pred_word:\n",
    "            correct_words += 1\n",
    "\n",
    "    word_accuracy = correct_words / total_words\n",
    "    return word_accuracy\n"
   ]
  },
  {
   "cell_type": "code",
   "execution_count": 29,
   "id": "803f5349",
   "metadata": {},
   "outputs": [
    {
     "name": "stdout",
     "output_type": "stream",
     "text": [
      "Word-level accuracy: 0.45659444525229026\n"
     ]
    }
   ],
   "source": [
    "from sklearn.svm import LinearSVC\n",
    "\n",
    "# X_seq, y_seq from group_by_word\n",
    "# Extract windowed features per word\n",
    "X_win_seq = [extract_sliding_window_features(seq, window_size=5) for seq in X_seq]\n",
    "\n",
    "# Flatten features and labels for training\n",
    "X_all = [feat for seq in X_win_seq for feat in seq]\n",
    "y_all = [label for seq in y_seq for label in seq]\n",
    "\n",
    "# Vectorize features\n",
    "from sklearn.feature_extraction import DictVectorizer\n",
    "vec = DictVectorizer()\n",
    "X_vec = vec.fit_transform(X_all)\n",
    "\n",
    "# Train-test split (flattened)\n",
    "from sklearn.model_selection import train_test_split\n",
    "X_train, X_test, y_train, y_test = train_test_split(X_vec, y_all, test_size=0.3, random_state=42)\n",
    "\n",
    "# Train SVM\n",
    "clf = LinearSVC()\n",
    "clf.fit(X_train, y_train)\n",
    "\n",
    "# Predict word-by-word\n",
    "y_pred_seq = []\n",
    "start = 0\n",
    "for seq in X_win_seq:\n",
    "    X_word = vec.transform(seq)\n",
    "    pred_word = clf.predict(X_word)\n",
    "    y_pred_seq.append(pred_word.tolist())\n",
    "\n",
    "# Compute word-level accuracy\n",
    "word_acc = compute_word_level_accuracy(y_seq, y_pred_seq)\n",
    "print(\"Word-level accuracy:\", word_acc)\n"
   ]
  },
  {
   "cell_type": "markdown",
   "id": "af5201eb",
   "metadata": {},
   "source": [
    "**Maximum Margin Markov Networks**"
   ]
  },
  {
   "cell_type": "code",
   "execution_count": 30,
   "id": "b4081085",
   "metadata": {},
   "outputs": [],
   "source": [
    "import numpy as np\n",
    "from sklearn.linear_model import SGDClassifier\n",
    "from collections import defaultdict\n",
    "from itertools import product\n",
    "\n",
    "n_labels = 26  # 'a' to 'z'\n",
    "\n",
    "# Train emission weights using flattened character features\n",
    "def train_emission_classifier(X_seq, y_seq):\n",
    "    X_flat = [x for seq in X_seq for x in seq]\n",
    "    y_flat = [y for seq in y_seq for y in seq]\n",
    "    clf = SGDClassifier(loss='hinge', max_iter=1000)\n",
    "    clf.fit(X_flat, y_flat)\n",
    "    return clf\n",
    "\n",
    "# Train transition weights (label → label) as frequency-based margin approximation\n",
    "def train_transition_weights(y_seq):\n",
    "    transition_counts = np.zeros((n_labels, n_labels))\n",
    "    for seq in y_seq:\n",
    "        for i in range(len(seq) - 1):\n",
    "            transition_counts[seq[i], seq[i + 1]] += 1\n",
    "    transition_weights = transition_counts / (transition_counts.sum(axis=1, keepdims=True) + 1e-5)\n",
    "    return np.log(transition_weights + 1e-5)\n",
    "\n",
    "# Viterbi decoding for sequence inference\n",
    "def viterbi_decode(emission_scores, transition_weights):\n",
    "    T = len(emission_scores)\n",
    "    scores = np.zeros((T, n_labels))\n",
    "    backpointers = np.zeros((T, n_labels), dtype=int)\n",
    "\n",
    "    scores[0] = emission_scores[0]\n",
    "    for t in range(1, T):\n",
    "        for curr in range(n_labels):\n",
    "            prev_scores = scores[t - 1] + transition_weights[:, curr]\n",
    "            best_prev = np.argmax(prev_scores)\n",
    "            scores[t, curr] = emission_scores[t][curr] + prev_scores[best_prev]\n",
    "            backpointers[t, curr] = best_prev\n",
    "\n",
    "    best_last = np.argmax(scores[T - 1])\n",
    "    best_path = [best_last]\n",
    "    for t in range(T - 1, 0, -1):\n",
    "        best_path.append(backpointers[t, best_path[-1]])\n",
    "    return best_path[::-1]\n",
    "\n",
    "# Main pipeline\n",
    "def train_m3n_like_model(X_seq, y_seq):\n",
    "    clf = train_emission_classifier(X_seq, y_seq)\n",
    "    trans_weights = train_transition_weights(y_seq)\n",
    "    return clf, trans_weights\n",
    "\n",
    "def predict_m3n(X_seq, clf, trans_weights):\n",
    "    predictions = []\n",
    "    for seq in X_seq:\n",
    "        emission_scores = clf.decision_function(seq)\n",
    "        pred_seq = viterbi_decode(emission_scores, trans_weights)\n",
    "        predictions.append(pred_seq)\n",
    "    return predictions\n",
    "\n",
    "def word_level_accuracy(y_true_seq, y_pred_seq):\n",
    "    correct = sum(np.array_equal(t, p) for t, p in zip(y_true_seq, y_pred_seq))\n",
    "    return correct / len(y_true_seq)\n"
   ]
  },
  {
   "cell_type": "code",
   "execution_count": null,
   "id": "b2faee75",
   "metadata": {},
   "outputs": [
    {
     "name": "stdout",
     "output_type": "stream",
     "text": [
      "Word-level Accuracy: 0.38323643410852715\n"
     ]
    }
   ],
   "source": [
    "# Split into train/test\n",
    "from sklearn.model_selection import train_test_split\n",
    "X_train, X_test, y_train, y_test = train_test_split(X_seq, y_seq, test_size=0.3, random_state=42)\n",
    "\n",
    "clf, trans_weights = train_m3n_like_model(X_train, y_train)\n",
    "y_pred = predict_m3n(X_test, clf, trans_weights)\n",
    "\n",
    "print(\"Word-level Accuracy:\", word_level_accuracy(y_test, y_pred))\n"
   ]
  },
  {
   "cell_type": "markdown",
   "id": "f9f5e2c8",
   "metadata": {},
   "source": [
    "**Conditional Random Fields**"
   ]
  },
  {
   "cell_type": "code",
   "execution_count": null,
   "id": "e2eb1eb6",
   "metadata": {},
   "outputs": [],
   "source": [
    "from sklearn.model_selection import train_test_split\n",
    "\n",
    "def prepare_crf_data(dataset, window_size=3):\n",
    "    X_seq, y_seq = group_by_word(dataset)\n",
    "    X_train, X_test, y_train, y_test = train_test_split(X_seq, y_seq, train_size=0.7, random_state=42)\n",
    "\n",
    "    X_train_feats = [extract_sliding_window_features(seq, window_size) for seq in X_train]\n",
    "    X_test_feats = [extract_sliding_window_features(seq, window_size) for seq in X_test]\n",
    "\n",
    "    return X_train_feats, X_test_feats, y_train, y_test\n"
   ]
  },
  {
   "cell_type": "code",
   "execution_count": null,
   "id": "d667cbda",
   "metadata": {},
   "outputs": [],
   "source": [
    "import sklearn_crfsuite\n",
    "from sklearn_crfsuite import metrics\n",
    "\n",
    "def train_crf(X_train, y_train, X_test, y_test):\n",
    "    crf = sklearn_crfsuite.CRF(\n",
    "        algorithm='lbfgs',\n",
    "        c1=0.1,\n",
    "        c2=0.1,\n",
    "        max_iterations=100,\n",
    "        all_possible_transitions=True\n",
    "    )\n",
    "\n",
    "    crf.fit(X_train, y_train)\n",
    "    y_pred = crf.predict(X_test)\n",
    "\n",
    "    flat_true = [label for seq in y_test for label in seq]\n",
    "    flat_pred = [label for seq in y_pred for label in seq]\n",
    "    acc_char = np.mean(np.array(flat_true) == np.array(flat_pred))\n",
    "    acc_word = np.mean([yt == yp for yt, yp in zip(y_test, y_pred)])\n",
    "\n",
    "    print(\"Character-Level Accuracy:\", acc_char)\n",
    "    print(\"Word-Level Accuracy:\", acc_word)\n"
   ]
  },
  {
   "cell_type": "code",
   "execution_count": null,
   "id": "0fe19e84",
   "metadata": {},
   "outputs": [
    {
     "name": "stdout",
     "output_type": "stream",
     "text": [
      "Character-Level Accuracy: 0.8523715791478824\n",
      "Word-Level Accuracy: 0.5295542635658915\n"
     ]
    }
   ],
   "source": [
    "X_train, X_test, y_train, y_test = prepare_crf_data(dataset1, window_size=5)\n",
    "y_train_str = decode_labels(y_train)\n",
    "y_test_str = decode_labels(y_test)\n",
    "train_crf(X_train, y_train_str, X_test, y_test_str)\n"
   ]
  }
 ],
 "metadata": {
  "kernelspec": {
   "display_name": "base",
   "language": "python",
   "name": "python3"
  },
  "language_info": {
   "codemirror_mode": {
    "name": "ipython",
    "version": 3
   },
   "file_extension": ".py",
   "mimetype": "text/x-python",
   "name": "python",
   "nbconvert_exporter": "python",
   "pygments_lexer": "ipython3",
   "version": "3.12.2"
  }
 },
 "nbformat": 4,
 "nbformat_minor": 5
}
