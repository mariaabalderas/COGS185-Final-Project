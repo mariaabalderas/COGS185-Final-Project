{
 "cells": [
  {
   "cell_type": "markdown",
   "id": "32c25f8c",
   "metadata": {},
   "source": [
    "**COGS185 Final Project**\n",
    "\n",
    "Spring 2025\n",
    "\n",
    "Maria Balderas"
   ]
  },
  {
   "cell_type": "markdown",
   "id": "77d92c9e",
   "metadata": {},
   "source": []
  }
 ],
 "metadata": {
  "language_info": {
   "name": "python"
  }
 },
 "nbformat": 4,
 "nbformat_minor": 5
}
